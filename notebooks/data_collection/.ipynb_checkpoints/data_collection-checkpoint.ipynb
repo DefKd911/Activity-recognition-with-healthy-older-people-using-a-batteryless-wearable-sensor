{
 "cells": [
  {
   "cell_type": "code",
   "execution_count": 15,
   "id": "f7a9e67f-6cf2-4172-ba97-e09230a39567",
   "metadata": {},
   "outputs": [],
   "source": [
    "%matplotlib inline\n",
    "import os\n",
    "import numpy as np\n",
    "import pandas as pd\n",
    "# importing all necessary libraries"
   ]
  },
  {
   "cell_type": "code",
   "execution_count": 16,
   "id": "ec65be28-6191-4f80-b909-d26746d55d77",
   "metadata": {},
   "outputs": [
    {
     "data": {
      "text/plain": [
       "'C:\\\\Users\\\\HP\\\\OneDrive\\\\Desktop\\\\AI&ML\\\\MACHINE LEARNING(algo)\\\\ML algo'"
      ]
     },
     "execution_count": 16,
     "metadata": {},
     "output_type": "execute_result"
    }
   ],
   "source": [
    "pwd()\n",
    "# know your current working directory"
   ]
  },
  {
   "cell_type": "code",
   "execution_count": 23,
   "id": "a475ca8c-3f51-40e7-bbf4-a096c407b506",
   "metadata": {},
   "outputs": [],
   "source": [
    "os.chdir('/data/raw/S1_dataset')\n",
    "# change directory to S1_datset folder"
   ]
  },
  {
   "cell_type": "code",
   "execution_count": 25,
   "id": "43962723-9a95-4a17-8d60-7e602dccef4c",
   "metadata": {},
   "outputs": [],
   "source": [
    "list_df=os.listdir()\n",
    "# make list of all files inside the folder"
   ]
  },
  {
   "cell_type": "code",
   "execution_count": 29,
   "id": "62e1d985-9496-4670-a818-b9dd7476018d",
   "metadata": {},
   "outputs": [
    {
     "name": "stdout",
     "output_type": "stream",
     "text": [
      "['d1p01M', 'd1p02M', 'd1p03M', 'd1p04M', 'd1p05M', 'd1p06M', 'd1p07M', 'd1p08F', 'd1p09F', 'd1p10F', 'd1p11F', 'd1p12F', 'd1p13F', 'd1p14F', 'd1p15F', 'd1p16F', 'd1p17F', 'd1p18F', 'd1p19F', 'd1p20F', 'd1p21F', 'd1p22F', 'd1p23F', 'd1p24F', 'd1p25F', 'd1p26F', 'd1p27F', 'd1p28F', 'd1p29F', 'd1p30F', 'd1p31F', 'd1p32F', 'd1p33F', 'd1p34F', 'd1p35F', 'd1p36M', 'd1p37M', 'd1p38M', 'd1p39M', 'd1p40M', 'd1p41M', 'd1p42M', 'd1p43M', 'd1p44M', 'd1p45M', 'd1p46M', 'd1p47M', 'd1p48M', 'd1p49F', 'd1p50F', 'd1p51F', 'd1p52F', 'd1p53F', 'd1p54F', 'd1p55F', 'd1p56F', 'd1p57F', 'd1p58F', 'd1p59F', 'd1p60F']\n"
     ]
    }
   ],
   "source": [
    "print(list_df)\n",
    "# these are files in S1_dataset "
   ]
  },
  {
   "cell_type": "code",
   "execution_count": 36,
   "id": "2fb8565c-1649-4f28-b7e9-ec73b7a8fbc3",
   "metadata": {},
   "outputs": [],
   "source": [
    "columns=['Time',\n",
    " 'frontal axis',\n",
    "'vertical axis',\n",
    "'lateral axis',\n",
    "'antenna ID',\n",
    "'RSSI' ,\n",
    "'Phase',\n",
    "'Frequency',\n",
    "'Label']\n",
    "# features in our dataset"
   ]
  },
  {
   "cell_type": "code",
   "execution_count": 38,
   "id": "a0405948-bb20-477e-852c-f85486cb6068",
   "metadata": {},
   "outputs": [],
   "source": [
    "dataframes1=[]\n",
    "for file in list_df:\n",
    "    if(file.endswith('.csv')):\n",
    "        df=pd.read_csv(file,names=columns)\n",
    "        dataframes1.append(df)\n",
    "# reading csv files as Pandas dataframe and adding to list of dataframes- dataframes1"
   ]
  },
  {
   "cell_type": "code",
   "execution_count": 39,
   "id": "1c897100-c234-4095-a54d-0bf5d48f290c",
   "metadata": {},
   "outputs": [],
   "source": [
    "os.chdir('/data/raw/S2_dataset')\n",
    "# change directory to S1_datset folder"
   ]
  },
  {
   "cell_type": "code",
   "execution_count": 42,
   "id": "9e759f27-4f86-42c7-83e8-4cc44e8ad913",
   "metadata": {},
   "outputs": [],
   "source": [
    "list_df=os.listdir()\n",
    "# make list of all files inside the folder"
   ]
  },
  {
   "cell_type": "code",
   "execution_count": 46,
   "id": "5b6cba29-f39d-476d-8056-d3d33cc05026",
   "metadata": {},
   "outputs": [
    {
     "data": {
      "text/plain": [
       "['d2p01F',\n",
       " 'd2p02F',\n",
       " 'd2p03F',\n",
       " 'd2p04F',\n",
       " 'd2p05F',\n",
       " 'd2p06F',\n",
       " 'd2p07F',\n",
       " 'd2p08F',\n",
       " 'd2p09F',\n",
       " 'd2p10F',\n",
       " 'd2p11F',\n",
       " 'd2p12F',\n",
       " 'd2p13F',\n",
       " 'd2p14F',\n",
       " 'd2p15F',\n",
       " 'd2p16F',\n",
       " 'd2p17F',\n",
       " 'd2p18M',\n",
       " 'd2p19M',\n",
       " 'd2p20M',\n",
       " 'd2p21M',\n",
       " 'd2p22M',\n",
       " 'd2p23F',\n",
       " 'd2p24F',\n",
       " 'd2p25F',\n",
       " 'd2p26F',\n",
       " 'd2p27F']"
      ]
     },
     "execution_count": 46,
     "metadata": {},
     "output_type": "execute_result"
    }
   ],
   "source": [
    "print(list_df)\n",
    "# these are files in S2_dataset "
   ]
  },
  {
   "cell_type": "code",
   "execution_count": 48,
   "id": "e5e7cc71-e060-4c23-82ae-3e51c8b8278b",
   "metadata": {},
   "outputs": [],
   "source": [
    "for file in list_df:\n",
    "    if(file.endswith('.csv')):\n",
    "        df=pd.read_csv(file,names=columns)\n",
    "        dataframes1.append(df)\n",
    "# reading csv files as Pandas dataframe and adding to existing list of dataframes- dataframes1"
   ]
  },
  {
   "cell_type": "code",
   "execution_count": 50,
   "id": "f0039ee7-677e-4c4e-91bf-e2a10c6abac8",
   "metadata": {},
   "outputs": [],
   "source": [
    "final_df=pd.concat(dataframes1)\n",
    "# concatenating list of dataframes as final_dataframe for model training "
   ]
  },
  {
   "cell_type": "code",
   "execution_count": 52,
   "id": "81a2f2ef-e227-4527-8aac-5337588b1528",
   "metadata": {},
   "outputs": [
    {
     "data": {
      "text/plain": [
       "(75128, 9)"
      ]
     },
     "execution_count": 52,
     "metadata": {},
     "output_type": "execute_result"
    }
   ],
   "source": [
    "final_df.shape\n",
    "# data contains 75128 entries , with 8 features and a LABEL"
   ]
  },
  {
   "cell_type": "code",
   "execution_count": 58,
   "id": "0dd2a4e3-d29b-438f-8393-b67af0147a8d",
   "metadata": {},
   "outputs": [
    {
     "data": {
      "text/html": [
       "<div>\n",
       "<style scoped>\n",
       "    .dataframe tbody tr th:only-of-type {\n",
       "        vertical-align: middle;\n",
       "    }\n",
       "\n",
       "    .dataframe tbody tr th {\n",
       "        vertical-align: top;\n",
       "    }\n",
       "\n",
       "    .dataframe thead th {\n",
       "        text-align: right;\n",
       "    }\n",
       "</style>\n",
       "<table border=\"1\" class=\"dataframe\">\n",
       "  <thead>\n",
       "    <tr style=\"text-align: right;\">\n",
       "      <th></th>\n",
       "      <th>Time</th>\n",
       "      <th>frontal axis</th>\n",
       "      <th>vertical axis</th>\n",
       "      <th>lateral axis</th>\n",
       "      <th>antenna ID</th>\n",
       "      <th>RSSI</th>\n",
       "      <th>Phase</th>\n",
       "      <th>Frequency</th>\n",
       "      <th>Label</th>\n",
       "    </tr>\n",
       "  </thead>\n",
       "  <tbody>\n",
       "    <tr>\n",
       "      <th>count</th>\n",
       "      <td>75128.000000</td>\n",
       "      <td>75128.000000</td>\n",
       "      <td>75128.000000</td>\n",
       "      <td>75128.000000</td>\n",
       "      <td>75128.000000</td>\n",
       "      <td>75128.000000</td>\n",
       "      <td>75128.000000</td>\n",
       "      <td>75128.000000</td>\n",
       "      <td>75128.000000</td>\n",
       "    </tr>\n",
       "    <tr>\n",
       "      <th>mean</th>\n",
       "      <td>299.080416</td>\n",
       "      <td>0.714211</td>\n",
       "      <td>0.345199</td>\n",
       "      <td>-0.217477</td>\n",
       "      <td>2.409581</td>\n",
       "      <td>-58.277253</td>\n",
       "      <td>3.157279</td>\n",
       "      <td>922.670536</td>\n",
       "      <td>2.528378</td>\n",
       "    </tr>\n",
       "    <tr>\n",
       "      <th>std</th>\n",
       "      <td>257.503002</td>\n",
       "      <td>0.404585</td>\n",
       "      <td>0.419041</td>\n",
       "      <td>0.438219</td>\n",
       "      <td>1.102165</td>\n",
       "      <td>5.174083</td>\n",
       "      <td>2.182257</td>\n",
       "      <td>1.679093</td>\n",
       "      <td>0.864258</td>\n",
       "    </tr>\n",
       "    <tr>\n",
       "      <th>min</th>\n",
       "      <td>0.000000</td>\n",
       "      <td>-0.748080</td>\n",
       "      <td>-0.553490</td>\n",
       "      <td>-1.336400</td>\n",
       "      <td>1.000000</td>\n",
       "      <td>-72.000000</td>\n",
       "      <td>0.000000</td>\n",
       "      <td>920.250000</td>\n",
       "      <td>1.000000</td>\n",
       "    </tr>\n",
       "    <tr>\n",
       "      <th>25%</th>\n",
       "      <td>121.250000</td>\n",
       "      <td>0.342380</td>\n",
       "      <td>-0.002297</td>\n",
       "      <td>-0.184730</td>\n",
       "      <td>1.000000</td>\n",
       "      <td>-62.000000</td>\n",
       "      <td>1.032400</td>\n",
       "      <td>921.250000</td>\n",
       "      <td>2.000000</td>\n",
       "    </tr>\n",
       "    <tr>\n",
       "      <th>50%</th>\n",
       "      <td>250.715000</td>\n",
       "      <td>0.682420</td>\n",
       "      <td>0.215880</td>\n",
       "      <td>-0.070699</td>\n",
       "      <td>3.000000</td>\n",
       "      <td>-58.000000</td>\n",
       "      <td>2.767300</td>\n",
       "      <td>922.750000</td>\n",
       "      <td>3.000000</td>\n",
       "    </tr>\n",
       "    <tr>\n",
       "      <th>75%</th>\n",
       "      <td>402.500000</td>\n",
       "      <td>1.104500</td>\n",
       "      <td>0.858940</td>\n",
       "      <td>0.031928</td>\n",
       "      <td>3.000000</td>\n",
       "      <td>-56.000000</td>\n",
       "      <td>5.358575</td>\n",
       "      <td>924.250000</td>\n",
       "      <td>3.000000</td>\n",
       "    </tr>\n",
       "    <tr>\n",
       "      <th>max</th>\n",
       "      <td>1739.400000</td>\n",
       "      <td>1.503200</td>\n",
       "      <td>2.030200</td>\n",
       "      <td>1.217800</td>\n",
       "      <td>4.000000</td>\n",
       "      <td>-38.500000</td>\n",
       "      <td>6.281700</td>\n",
       "      <td>925.750000</td>\n",
       "      <td>4.000000</td>\n",
       "    </tr>\n",
       "  </tbody>\n",
       "</table>\n",
       "</div>"
      ],
      "text/plain": [
       "               Time  frontal axis  vertical axis  lateral axis    antenna ID  \\\n",
       "count  75128.000000  75128.000000   75128.000000  75128.000000  75128.000000   \n",
       "mean     299.080416      0.714211       0.345199     -0.217477      2.409581   \n",
       "std      257.503002      0.404585       0.419041      0.438219      1.102165   \n",
       "min        0.000000     -0.748080      -0.553490     -1.336400      1.000000   \n",
       "25%      121.250000      0.342380      -0.002297     -0.184730      1.000000   \n",
       "50%      250.715000      0.682420       0.215880     -0.070699      3.000000   \n",
       "75%      402.500000      1.104500       0.858940      0.031928      3.000000   \n",
       "max     1739.400000      1.503200       2.030200      1.217800      4.000000   \n",
       "\n",
       "               RSSI         Phase     Frequency         Label  \n",
       "count  75128.000000  75128.000000  75128.000000  75128.000000  \n",
       "mean     -58.277253      3.157279    922.670536      2.528378  \n",
       "std        5.174083      2.182257      1.679093      0.864258  \n",
       "min      -72.000000      0.000000    920.250000      1.000000  \n",
       "25%      -62.000000      1.032400    921.250000      2.000000  \n",
       "50%      -58.000000      2.767300    922.750000      3.000000  \n",
       "75%      -56.000000      5.358575    924.250000      3.000000  \n",
       "max      -38.500000      6.281700    925.750000      4.000000  "
      ]
     },
     "execution_count": 58,
     "metadata": {},
     "output_type": "execute_result"
    }
   ],
   "source": [
    "final_df.describe()\n",
    "# statistical description of dataframe"
   ]
  },
  {
   "cell_type": "code",
   "execution_count": 56,
   "id": "e834b2eb-1886-4e05-b47b-d334c06c3c01",
   "metadata": {},
   "outputs": [
    {
     "name": "stdout",
     "output_type": "stream",
     "text": [
      "<class 'pandas.core.frame.DataFrame'>\n",
      "Index: 75128 entries, 0 to 177\n",
      "Data columns (total 9 columns):\n",
      " #   Column         Non-Null Count  Dtype  \n",
      "---  ------         --------------  -----  \n",
      " 0   Time           75128 non-null  float64\n",
      " 1   frontal axis   75128 non-null  float64\n",
      " 2   vertical axis  75128 non-null  float64\n",
      " 3   lateral axis   75128 non-null  float64\n",
      " 4   antenna ID     75128 non-null  int64  \n",
      " 5   RSSI           75128 non-null  float64\n",
      " 6   Phase          75128 non-null  float64\n",
      " 7   Frequency      75128 non-null  float64\n",
      " 8   Label          75128 non-null  int64  \n",
      "dtypes: float64(7), int64(2)\n",
      "memory usage: 5.7 MB\n"
     ]
    }
   ],
   "source": [
    "final_df.info()"
   ]
  },
  {
   "cell_type": "code",
   "execution_count": 64,
   "id": "c7f6613b-6bc1-4b02-8798-0875194f4ec1",
   "metadata": {},
   "outputs": [
    {
     "data": {
      "text/plain": [
       "Time             0\n",
       "frontal axis     0\n",
       "vertical axis    0\n",
       "lateral axis     0\n",
       "antenna ID       0\n",
       "RSSI             0\n",
       "Phase            0\n",
       "Frequency        0\n",
       "Label            0\n",
       "dtype: int64"
      ]
     },
     "execution_count": 64,
     "metadata": {},
     "output_type": "execute_result"
    }
   ],
   "source": [
    "final_df.isnull().sum()\n",
    "# our data contains no NULL value"
   ]
  },
  {
   "cell_type": "code",
   "execution_count": 66,
   "id": "bfa1e794-d2d3-46c6-aba5-1833d5f73f27",
   "metadata": {},
   "outputs": [
    {
     "data": {
      "text/html": [
       "<div>\n",
       "<style scoped>\n",
       "    .dataframe tbody tr th:only-of-type {\n",
       "        vertical-align: middle;\n",
       "    }\n",
       "\n",
       "    .dataframe tbody tr th {\n",
       "        vertical-align: top;\n",
       "    }\n",
       "\n",
       "    .dataframe thead th {\n",
       "        text-align: right;\n",
       "    }\n",
       "</style>\n",
       "<table border=\"1\" class=\"dataframe\">\n",
       "  <thead>\n",
       "    <tr style=\"text-align: right;\">\n",
       "      <th></th>\n",
       "      <th>Time</th>\n",
       "      <th>frontal axis</th>\n",
       "      <th>vertical axis</th>\n",
       "      <th>lateral axis</th>\n",
       "      <th>antenna ID</th>\n",
       "      <th>RSSI</th>\n",
       "      <th>Phase</th>\n",
       "      <th>Frequency</th>\n",
       "      <th>Label</th>\n",
       "    </tr>\n",
       "  </thead>\n",
       "  <tbody>\n",
       "    <tr>\n",
       "      <th>0</th>\n",
       "      <td>0.00</td>\n",
       "      <td>0.27203</td>\n",
       "      <td>1.00820</td>\n",
       "      <td>-0.082102</td>\n",
       "      <td>1</td>\n",
       "      <td>-63.5</td>\n",
       "      <td>2.4252</td>\n",
       "      <td>924.25</td>\n",
       "      <td>1</td>\n",
       "    </tr>\n",
       "    <tr>\n",
       "      <th>1</th>\n",
       "      <td>0.50</td>\n",
       "      <td>0.27203</td>\n",
       "      <td>1.00820</td>\n",
       "      <td>-0.082102</td>\n",
       "      <td>1</td>\n",
       "      <td>-63.0</td>\n",
       "      <td>4.7369</td>\n",
       "      <td>921.75</td>\n",
       "      <td>1</td>\n",
       "    </tr>\n",
       "    <tr>\n",
       "      <th>2</th>\n",
       "      <td>1.50</td>\n",
       "      <td>0.44791</td>\n",
       "      <td>0.91636</td>\n",
       "      <td>-0.013684</td>\n",
       "      <td>1</td>\n",
       "      <td>-63.5</td>\n",
       "      <td>3.0311</td>\n",
       "      <td>923.75</td>\n",
       "      <td>1</td>\n",
       "    </tr>\n",
       "    <tr>\n",
       "      <th>3</th>\n",
       "      <td>1.75</td>\n",
       "      <td>0.44791</td>\n",
       "      <td>0.91636</td>\n",
       "      <td>-0.013684</td>\n",
       "      <td>1</td>\n",
       "      <td>-63.0</td>\n",
       "      <td>2.0371</td>\n",
       "      <td>921.25</td>\n",
       "      <td>1</td>\n",
       "    </tr>\n",
       "    <tr>\n",
       "      <th>4</th>\n",
       "      <td>2.50</td>\n",
       "      <td>0.34238</td>\n",
       "      <td>0.96229</td>\n",
       "      <td>-0.059296</td>\n",
       "      <td>1</td>\n",
       "      <td>-63.5</td>\n",
       "      <td>5.8920</td>\n",
       "      <td>920.25</td>\n",
       "      <td>1</td>\n",
       "    </tr>\n",
       "    <tr>\n",
       "      <th>...</th>\n",
       "      <td>...</td>\n",
       "      <td>...</td>\n",
       "      <td>...</td>\n",
       "      <td>...</td>\n",
       "      <td>...</td>\n",
       "      <td>...</td>\n",
       "      <td>...</td>\n",
       "      <td>...</td>\n",
       "      <td>...</td>\n",
       "    </tr>\n",
       "    <tr>\n",
       "      <th>173</th>\n",
       "      <td>444.00</td>\n",
       "      <td>0.90520</td>\n",
       "      <td>0.64076</td>\n",
       "      <td>-0.082102</td>\n",
       "      <td>1</td>\n",
       "      <td>-59.5</td>\n",
       "      <td>1.9574</td>\n",
       "      <td>922.25</td>\n",
       "      <td>2</td>\n",
       "    </tr>\n",
       "    <tr>\n",
       "      <th>174</th>\n",
       "      <td>449.00</td>\n",
       "      <td>0.90520</td>\n",
       "      <td>0.64076</td>\n",
       "      <td>-0.082102</td>\n",
       "      <td>1</td>\n",
       "      <td>-59.0</td>\n",
       "      <td>6.2540</td>\n",
       "      <td>922.25</td>\n",
       "      <td>2</td>\n",
       "    </tr>\n",
       "    <tr>\n",
       "      <th>175</th>\n",
       "      <td>451.50</td>\n",
       "      <td>0.42446</td>\n",
       "      <td>0.91636</td>\n",
       "      <td>-0.161920</td>\n",
       "      <td>1</td>\n",
       "      <td>-53.0</td>\n",
       "      <td>5.7156</td>\n",
       "      <td>922.25</td>\n",
       "      <td>4</td>\n",
       "    </tr>\n",
       "    <tr>\n",
       "      <th>176</th>\n",
       "      <td>451.58</td>\n",
       "      <td>0.42446</td>\n",
       "      <td>0.91636</td>\n",
       "      <td>-0.161920</td>\n",
       "      <td>1</td>\n",
       "      <td>-52.0</td>\n",
       "      <td>5.8982</td>\n",
       "      <td>922.25</td>\n",
       "      <td>4</td>\n",
       "    </tr>\n",
       "    <tr>\n",
       "      <th>177</th>\n",
       "      <td>452.25</td>\n",
       "      <td>0.58862</td>\n",
       "      <td>0.87042</td>\n",
       "      <td>-0.082102</td>\n",
       "      <td>1</td>\n",
       "      <td>-60.0</td>\n",
       "      <td>5.7033</td>\n",
       "      <td>925.75</td>\n",
       "      <td>4</td>\n",
       "    </tr>\n",
       "  </tbody>\n",
       "</table>\n",
       "<p>75128 rows × 9 columns</p>\n",
       "</div>"
      ],
      "text/plain": [
       "       Time  frontal axis  vertical axis  lateral axis  antenna ID  RSSI  \\\n",
       "0      0.00       0.27203        1.00820     -0.082102           1 -63.5   \n",
       "1      0.50       0.27203        1.00820     -0.082102           1 -63.0   \n",
       "2      1.50       0.44791        0.91636     -0.013684           1 -63.5   \n",
       "3      1.75       0.44791        0.91636     -0.013684           1 -63.0   \n",
       "4      2.50       0.34238        0.96229     -0.059296           1 -63.5   \n",
       "..      ...           ...            ...           ...         ...   ...   \n",
       "173  444.00       0.90520        0.64076     -0.082102           1 -59.5   \n",
       "174  449.00       0.90520        0.64076     -0.082102           1 -59.0   \n",
       "175  451.50       0.42446        0.91636     -0.161920           1 -53.0   \n",
       "176  451.58       0.42446        0.91636     -0.161920           1 -52.0   \n",
       "177  452.25       0.58862        0.87042     -0.082102           1 -60.0   \n",
       "\n",
       "      Phase  Frequency  Label  \n",
       "0    2.4252     924.25      1  \n",
       "1    4.7369     921.75      1  \n",
       "2    3.0311     923.75      1  \n",
       "3    2.0371     921.25      1  \n",
       "4    5.8920     920.25      1  \n",
       "..      ...        ...    ...  \n",
       "173  1.9574     922.25      2  \n",
       "174  6.2540     922.25      2  \n",
       "175  5.7156     922.25      4  \n",
       "176  5.8982     922.25      4  \n",
       "177  5.7033     925.75      4  \n",
       "\n",
       "[75128 rows x 9 columns]"
      ]
     },
     "execution_count": 66,
     "metadata": {},
     "output_type": "execute_result"
    }
   ],
   "source": [
    "final_df\n",
    "# final dataframe"
   ]
  },
  {
   "cell_type": "code",
   "execution_count": 61,
   "id": "307cbd5e-6ca6-4d45-8e34-3a443d1e959a",
   "metadata": {
    "scrolled": true
   },
   "outputs": [],
   "source": [
    "final_df.to_csv('final_dataset.csv', index=False)\n",
    "# saving this data as processed dataset"
   ]
  }
 ],
 "metadata": {
  "kernelspec": {
   "display_name": "Python 3 (ipykernel)",
   "language": "python",
   "name": "python3"
  },
  "language_info": {
   "codemirror_mode": {
    "name": "ipython",
    "version": 3
   },
   "file_extension": ".py",
   "mimetype": "text/x-python",
   "name": "python",
   "nbconvert_exporter": "python",
   "pygments_lexer": "ipython3",
   "version": "3.11.7"
  }
 },
 "nbformat": 4,
 "nbformat_minor": 5
}
